{
 "cells": [
  {
   "cell_type": "code",
   "execution_count": 9,
   "id": "d5f4efa1-17ee-4889-b813-60a5a0749eb1",
   "metadata": {},
   "outputs": [
    {
     "name": "stdout",
     "output_type": "stream",
     "text": [
      "   index                            0                            1  \\\n",
      "0  C0001  (C0060, 0.9999432818874427)  (C0033, 0.9999817076624313)   \n",
      "1  C0002  (C0060, 0.9999500619086501)  (C0033, 0.9999854648745448)   \n",
      "2  C0003  (C0060, 0.9999430383594823)  (C0033, 0.9999815692482683)   \n",
      "3  C0004  (C0060, 0.9999433184996419)  (C0033, 0.9999817284522337)   \n",
      "4  C0005  (C0060, 0.9999431137628082)  (C0033, 0.9999816121293696)   \n",
      "\n",
      "                             2  \n",
      "0  (C0097, 0.9999832960836822)  \n",
      "1  (C0097, 0.9999868768848894)  \n",
      "2  (C0097, 0.9999831638039574)  \n",
      "3  (C0097, 0.9999833159500898)  \n",
      "4  (C0097, 0.9999832047870627)  \n",
      "  CustomerID           Lookalikes_Column1           Lookalikes_Column2  \\\n",
      "0      C0001  (C0060, 0.9999432818874427)  (C0033, 0.9999817076624313)   \n",
      "1      C0002  (C0060, 0.9999500619086501)  (C0033, 0.9999854648745448)   \n",
      "2      C0003  (C0060, 0.9999430383594823)  (C0033, 0.9999815692482683)   \n",
      "3      C0004  (C0060, 0.9999433184996419)  (C0033, 0.9999817284522337)   \n",
      "4      C0005  (C0060, 0.9999431137628082)  (C0033, 0.9999816121293696)   \n",
      "\n",
      "                        Scores  \n",
      "0  (C0097, 0.9999832960836822)  \n",
      "1  (C0097, 0.9999868768848894)  \n",
      "2  (C0097, 0.9999831638039574)  \n",
      "3  (C0097, 0.9999833159500898)  \n",
      "4  (C0097, 0.9999832047870627)  \n"
     ]
    }
   ],
   "source": [
    "lookalike_df = pd.DataFrame(lookalike_dict).T.reset_index()\n",
    "\n",
    "print(lookalike_df.head()) \n",
    "\n",
    "lookalike_df.columns = ['CustomerID', 'Lookalikes_Column1', 'Lookalikes_Column2', 'Scores']\n",
    "\n",
    "\n",
    "lookalike_df.to_csv(\"FirstName_LastName_Lookalike.csv\", index=False)\n",
    "\n",
    "\n",
    "print(lookalike_df.head())\n"
   ]
  },
  {
   "cell_type": "code",
   "execution_count": null,
   "id": "45ef44d7-6535-46fc-89c6-a24f7e1c462b",
   "metadata": {},
   "outputs": [],
   "source": []
  }
 ],
 "metadata": {
  "kernelspec": {
   "display_name": "Python 3 (ipykernel)",
   "language": "python",
   "name": "python3"
  },
  "language_info": {
   "codemirror_mode": {
    "name": "ipython",
    "version": 3
   },
   "file_extension": ".py",
   "mimetype": "text/x-python",
   "name": "python",
   "nbconvert_exporter": "python",
   "pygments_lexer": "ipython3",
   "version": "3.12.8"
  }
 },
 "nbformat": 4,
 "nbformat_minor": 5
}
